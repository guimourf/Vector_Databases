{
 "cells": [
  {
   "cell_type": "markdown",
   "metadata": {},
   "source": [
    "# Testes ElasticSearch"
   ]
  },
  {
   "cell_type": "code",
   "execution_count": 14,
   "metadata": {},
   "outputs": [
    {
     "name": "stdout",
     "output_type": "stream",
     "text": [
      "Falha na conexão.\n"
     ]
    }
   ],
   "source": [
    "import urllib3\n",
    "from elasticsearch import Elasticsearch\n",
    "\n",
    "# Desativa o aviso de segurança de certificado para HTTPS local\n",
    "urllib3.disable_warnings(urllib3.exceptions.InsecureRequestWarning)\n",
    "\n",
    "# Conectar ao Elasticsearch\n",
    "es = Elasticsearch(\n",
    "    \"https://localhost:9200\",\n",
    "    basic_auth=(\"elastic\", \"19112023\"),\n",
    "    verify_certs=False  # Ignora verificação SSL para HTTPS local\n",
    ")\n",
    "\n",
    "# Testar a conexão\n",
    "if es.ping():\n",
    "    print(\"Conectado ao Elasticsearch!\")\n",
    "else:\n",
    "    print(\"Falha na conexão.\")\n"
   ]
  }
 ],
 "metadata": {
  "kernelspec": {
   "display_name": ".venv",
   "language": "python",
   "name": "python3"
  },
  "language_info": {
   "codemirror_mode": {
    "name": "ipython",
    "version": 3
   },
   "file_extension": ".py",
   "mimetype": "text/x-python",
   "name": "python",
   "nbconvert_exporter": "python",
   "pygments_lexer": "ipython3",
   "version": "3.12.7"
  }
 },
 "nbformat": 4,
 "nbformat_minor": 2
}
